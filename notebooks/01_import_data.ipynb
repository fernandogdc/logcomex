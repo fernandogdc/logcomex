{
 "cells": [
  {
   "cell_type": "markdown",
   "metadata": {},
   "source": [
    "## Import libraries"
   ]
  },
  {
   "cell_type": "code",
   "execution_count": 1,
   "metadata": {},
   "outputs": [],
   "source": [
    "import pandas as pd"
   ]
  },
  {
   "cell_type": "markdown",
   "metadata": {},
   "source": [
    "## Extrair os dados de importação do período 2023-01 até 2023-03"
   ]
  },
  {
   "cell_type": "code",
   "execution_count": 2,
   "metadata": {},
   "outputs": [],
   "source": [
    "df_exportacao_mun = pd.read_csv('../data/01_raw/EXP_2023_MUN.csv', sep = ';')\n",
    "df_exportacao = pd.read_csv('../data/01_raw/EXP_2023.csv', sep = ';')"
   ]
  },
  {
   "cell_type": "code",
   "execution_count": 3,
   "metadata": {},
   "outputs": [],
   "source": [
    "df_exportacao_mun = df_exportacao_mun[(df_exportacao_mun['CO_MES'].isin([1,2,3])) & (df_exportacao_mun['CO_ANO']==2023)]\n",
    "df_exportacao = df_exportacao[(df_exportacao['CO_MES'].isin([1,2,3])) & (df_exportacao['CO_ANO']==2023)]"
   ]
  },
  {
   "cell_type": "markdown",
   "metadata": {},
   "source": [
    "## Criar um dataset com os arquivos extraídos que contenham as colunas Município e NCM."
   ]
  },
  {
   "cell_type": "code",
   "execution_count": 4,
   "metadata": {},
   "outputs": [],
   "source": [
    "# Converto o código de entrada para string, e preencho com zeros a esquerda\n",
    "df_exportacao['CO_NCM'] = df_exportacao['CO_NCM'].astype(str).str.zfill(8)\n",
    "df_exportacao_mun['SH4'] = df_exportacao_mun['SH4'].astype(str).str.zfill(4)\n",
    "# Crio variável SH4\n",
    "df_exportacao['SH4'] = df_exportacao['CO_NCM'].str.slice(0,4)\n",
    "#  40.11.1000 -> 8 dígitos"
   ]
  },
  {
   "cell_type": "code",
   "execution_count": 5,
   "metadata": {},
   "outputs": [],
   "source": [
    "# Converter novamente para inteiro os códigos SH4 e CO_NCM. Int64 aceita nulos. int não aceita nulos\n",
    "df_exportacao[['CO_NCM', 'SH4']] = df_exportacao[['CO_NCM', 'SH4']].astype('Int64')\n",
    "df_exportacao_mun['SH4'] = df_exportacao_mun['SH4'].astype('Int64')"
   ]
  },
  {
   "cell_type": "markdown",
   "metadata": {},
   "source": [
    "### Left join entre as bases"
   ]
  },
  {
   "cell_type": "code",
   "execution_count": 6,
   "metadata": {},
   "outputs": [],
   "source": [
    "# df_exportacao_mun_ncm = df_exportacao[['SH4', 'CO_NCM', 'CO_ANO', 'CO_MES', 'CO_PAIS']].merge(df_exportacao_mun[['SH4', 'CO_MUN', 'CO_ANO', 'CO_MES', 'CO_PAIS']],\n",
    "#                                                                 how = 'left', on = ['SH4', 'CO_ANO', 'CO_MES', 'CO_PAIS'])"
   ]
  },
  {
   "cell_type": "code",
   "execution_count": 7,
   "metadata": {},
   "outputs": [],
   "source": [
    "df_exportacao_mun_ncm = df_exportacao.merge(df_exportacao_mun, how = 'left', on = ['CO_ANO', 'CO_MES', 'SH4', 'CO_PAIS', 'KG_LIQUIDO', 'VL_FOB'])"
   ]
  },
  {
   "cell_type": "code",
   "execution_count": 8,
   "metadata": {},
   "outputs": [],
   "source": [
    "df_exportacao_mun_ncm['CO_MUN'] = df_exportacao_mun_ncm['CO_MUN'].astype('Int64')"
   ]
  },
  {
   "cell_type": "code",
   "execution_count": 9,
   "metadata": {},
   "outputs": [],
   "source": [
    "# Seleciono apenas as colunas que preciso\n",
    "df_exportacao_mun_ncm = df_exportacao_mun_ncm[['CO_NCM', 'CO_MUN', 'CO_VIA', 'CO_URF']]"
   ]
  },
  {
   "cell_type": "markdown",
   "metadata": {},
   "source": [
    "## Complementar o dataset com as descrições dos campos utilizando os datasets auxiliares nos links:"
   ]
  },
  {
   "cell_type": "code",
   "execution_count": 10,
   "metadata": {},
   "outputs": [],
   "source": [
    "df_ncm_class = pd.read_csv('../data/01_raw/NCM.csv', sep = ';', encoding=\"ISO-8859-1\")\n",
    "df_pais_origem = pd.read_csv('../data/01_raw/PAIS.csv', sep = ';', encoding=\"ISO-8859-1\")\n",
    "df_municipio  = pd.read_csv('../data/01_raw/UF_MUN.csv', sep = ';', encoding=\"ISO-8859-1\")\n",
    "df_urf  = pd.read_csv('../data/01_raw/URF.csv', sep = ';', encoding=\"ISO-8859-1\")\n",
    "df_via  = pd.read_csv('../data/01_raw/VIA.csv', sep = ';')"
   ]
  },
  {
   "cell_type": "code",
   "execution_count": 11,
   "metadata": {},
   "outputs": [],
   "source": [
    "# df_ncm_class.head(2)\n",
    "df_ncm_class = df_ncm_class[['CO_NCM', 'NO_NCM_POR', 'NO_NCM_ESP', 'NO_NCM_ING']]\n",
    "df_exportacao_mun_ncm = df_exportacao_mun_ncm.merge(df_ncm_class, on = 'CO_NCM', how = 'left')"
   ]
  },
  {
   "cell_type": "code",
   "execution_count": 12,
   "metadata": {},
   "outputs": [],
   "source": [
    "# Renomeei para facilitar no merge\n",
    "df_municipio = df_municipio.rename(columns={'CO_MUN_GEO':'CO_MUN'})\n",
    "df_exportacao_mun_ncm = df_exportacao_mun_ncm.merge(df_municipio, on = 'CO_MUN', how='left')"
   ]
  },
  {
   "cell_type": "code",
   "execution_count": 13,
   "metadata": {},
   "outputs": [],
   "source": [
    "df_exportacao_mun_ncm = df_exportacao_mun_ncm.merge(df_urf, on='CO_URF', how='left' )"
   ]
  },
  {
   "cell_type": "code",
   "execution_count": 14,
   "metadata": {},
   "outputs": [],
   "source": [
    "df_exportacao_mun_ncm = df_exportacao_mun_ncm.merge(df_via, on='CO_VIA', how='left')"
   ]
  },
  {
   "cell_type": "code",
   "execution_count": 15,
   "metadata": {},
   "outputs": [],
   "source": [
    "# Check\n",
    "# df_exportacao_mun_ncm[(df_exportacao_mun_ncm['CO_MUN'].notna()) & (df_exportacao_mun_ncm['NO_MUN'].isna())]"
   ]
  },
  {
   "cell_type": "markdown",
   "metadata": {},
   "source": [
    "# Percentual de cobertura"
   ]
  },
  {
   "cell_type": "code",
   "execution_count": 20,
   "metadata": {},
   "outputs": [
    {
     "data": {
      "text/plain": [
       "CO_NCM        1.000000\n",
       "CO_MUN        0.331802\n",
       "CO_VIA        1.000000\n",
       "CO_URF        1.000000\n",
       "NO_NCM_POR    1.000000\n",
       "NO_NCM_ESP    1.000000\n",
       "NO_NCM_ING    1.000000\n",
       "NO_MUN        0.331802\n",
       "NO_MUN_MIN    0.331802\n",
       "SG_UF         0.331802\n",
       "NO_URF        1.000000\n",
       "NO_VIA        1.000000\n",
       "dtype: float64"
      ]
     },
     "execution_count": 20,
     "metadata": {},
     "output_type": "execute_result"
    }
   ],
   "source": [
    "df_exportacao_mun_ncm.notna().sum()/df_exportacao_mun_ncm.shape[0]"
   ]
  },
  {
   "cell_type": "markdown",
   "metadata": {},
   "source": [
    "# Output data"
   ]
  },
  {
   "cell_type": "code",
   "execution_count": 18,
   "metadata": {},
   "outputs": [],
   "source": [
    "df_exportacao_mun_ncm.to_excel('../data/02_output/exportacao.xlsx', index=False)"
   ]
  },
  {
   "cell_type": "code",
   "execution_count": null,
   "metadata": {},
   "outputs": [],
   "source": [
    "df_exportacao_mun_ncm.to_csv('../data/02_output/exportacao.csv', index=False)"
   ]
  }
 ],
 "metadata": {
  "kernelspec": {
   "display_name": "logcomex-KYevHr4V",
   "language": "python",
   "name": "python3"
  },
  "language_info": {
   "codemirror_mode": {
    "name": "ipython",
    "version": 3
   },
   "file_extension": ".py",
   "mimetype": "text/x-python",
   "name": "python",
   "nbconvert_exporter": "python",
   "pygments_lexer": "ipython3",
   "version": "3.11.5"
  },
  "orig_nbformat": 4
 },
 "nbformat": 4,
 "nbformat_minor": 2
}
